{
 "cells": [
  {
   "cell_type": "markdown",
   "id": "ca68e3ed",
   "metadata": {},
   "source": [
    "### Spark Practice Notebook\n",
    "\n",
    "For this practice we will be using the FHV 2019-10 data found [here](https://github.com/DataTalksClub/nyc-tlc-data/releases/download/fhv/fhv_tripdata_2019-10.csv.gz)\n"
   ]
  },
  {
   "cell_type": "code",
   "execution_count": 1,
   "id": "942e2f09",
   "metadata": {},
   "outputs": [],
   "source": [
    "import pyspark\n",
    "from pyspark.sql import SparkSession"
   ]
  },
  {
   "cell_type": "code",
   "execution_count": 2,
   "id": "2b617a7f",
   "metadata": {},
   "outputs": [
    {
     "data": {
      "text/plain": [
       "'3.5.1'"
      ]
     },
     "execution_count": 2,
     "metadata": {},
     "output_type": "execute_result"
    }
   ],
   "source": [
    "pyspark.__version__"
   ]
  },
  {
   "cell_type": "code",
   "execution_count": 5,
   "id": "fdfae40f",
   "metadata": {},
   "outputs": [
    {
     "data": {
      "text/plain": [
       "'/home/divij/spark/spark-3.5.1-bin-hadoop3/python/pyspark/__init__.py'"
      ]
     },
     "execution_count": 5,
     "metadata": {},
     "output_type": "execute_result"
    }
   ],
   "source": [
    "pyspark.__file__"
   ]
  },
  {
   "cell_type": "code",
   "execution_count": 2,
   "id": "0b564972",
   "metadata": {
    "scrolled": true
   },
   "outputs": [
    {
     "name": "stderr",
     "output_type": "stream",
     "text": [
      "Setting default log level to \"WARN\".\n",
      "To adjust logging level use sc.setLogLevel(newLevel). For SparkR, use setLogLevel(newLevel).\n",
      "24/03/06 18:11:11 WARN NativeCodeLoader: Unable to load native-hadoop library for your platform... using builtin-java classes where applicable\n"
     ]
    }
   ],
   "source": [
    "#local spark session\n",
    "spark = SparkSession.builder \\\n",
    "    .master(\"local[*]\") \\\n",
    "    .appName('test') \\\n",
    "    .getOrCreate()"
   ]
  },
  {
   "cell_type": "code",
   "execution_count": 19,
   "id": "54ed1de8",
   "metadata": {},
   "outputs": [],
   "source": [
    "from pyspark.sql import types\n",
    "\n",
    "schema = types.StructType([ \n",
    "    types.StructField('dispatching_base_num', \n",
    "                types.StringType(), True), \n",
    "    types.StructField('pickup_datetime', \n",
    "                types.TimestampType(), True), \n",
    "    types.StructField('dropOff_datetime', \n",
    "                types.TimestampType(), True), \n",
    "    types.StructField('PUlocationID', \n",
    "                types.IntegerType(), True), \n",
    "    types.StructField('DOlocationID', \n",
    "                types.IntegerType(), True),\n",
    "    types.StructField('SR_Flag', \n",
    "                types.StringType(), True),\n",
    "    types.StructField('Affiliated_base_number', \n",
    "                types.StringType(), True)     \n",
    "]) "
   ]
  },
  {
   "cell_type": "code",
   "execution_count": 29,
   "id": "325f12c1",
   "metadata": {},
   "outputs": [],
   "source": [
    "df = spark.read \\\n",
    "    .option(\"header\", \"true\") \\\n",
    "    .schema(schema) \\\n",
    "    .csv('/home/divij/notebooks/fhv_tripdata_2019-10.csv')"
   ]
  },
  {
   "cell_type": "code",
   "execution_count": 21,
   "id": "a208f3db",
   "metadata": {
    "scrolled": true
   },
   "outputs": [
    {
     "name": "stdout",
     "output_type": "stream",
     "text": [
      "+--------------------+-------------------+-------------------+------------+------------+-------+----------------------+\n",
      "|dispatching_base_num|    pickup_datetime|   dropOff_datetime|PUlocationID|DOlocationID|SR_Flag|Affiliated_base_number|\n",
      "+--------------------+-------------------+-------------------+------------+------------+-------+----------------------+\n",
      "|              B00009|2019-10-01 00:23:00|2019-10-01 00:35:00|         264|         264|   NULL|                B00009|\n",
      "|              B00013|2019-10-01 00:11:29|2019-10-01 00:13:22|         264|         264|   NULL|                B00013|\n",
      "|              B00014|2019-10-01 00:11:43|2019-10-01 00:37:20|         264|         264|   NULL|                B00014|\n",
      "|              B00014|2019-10-01 00:56:29|2019-10-01 00:57:47|         264|         264|   NULL|                B00014|\n",
      "|              B00014|2019-10-01 00:23:09|2019-10-01 00:28:27|         264|         264|   NULL|                B00014|\n",
      "+--------------------+-------------------+-------------------+------------+------------+-------+----------------------+\n",
      "only showing top 5 rows\n",
      "\n"
     ]
    }
   ],
   "source": [
    "df.show(5)"
   ]
  },
  {
   "cell_type": "code",
   "execution_count": 30,
   "id": "6c0977b0",
   "metadata": {},
   "outputs": [
    {
     "name": "stderr",
     "output_type": "stream",
     "text": [
      "                                                                                \r"
     ]
    }
   ],
   "source": [
    "# create 6 partitions in our dataframe\n",
    "df = df.repartition(6)\n",
    "\n",
    "df.write.parquet('/home/divij/notebooks/raw/', 'overwrite')"
   ]
  },
  {
   "cell_type": "code",
   "execution_count": 31,
   "id": "dbb56fa4",
   "metadata": {},
   "outputs": [],
   "source": [
    "df_trips_data=df.registerTempTable('trips_data')"
   ]
  },
  {
   "cell_type": "code",
   "execution_count": 42,
   "id": "303fc1fa",
   "metadata": {},
   "outputs": [
    {
     "name": "stderr",
     "output_type": "stream",
     "text": [
      "\r",
      "[Stage 55:>                                                         (0 + 4) / 4]\r"
     ]
    },
    {
     "name": "stdout",
     "output_type": "stream",
     "text": [
      "+--------------+\n",
      "|number_records|\n",
      "+--------------+\n",
      "|         62610|\n",
      "+--------------+\n",
      "\n"
     ]
    },
    {
     "name": "stderr",
     "output_type": "stream",
     "text": [
      "\r",
      "[Stage 55:===========================================>              (3 + 1) / 4]\r",
      "\r",
      "                                                                                \r"
     ]
    }
   ],
   "source": [
    "# count of records - 15 Oct\n",
    "spark.sql(\"\"\"\n",
    "SELECT \n",
    "    COUNT(1) AS number_records\n",
    "FROM\n",
    "    trips_data\n",
    "WHERE\n",
    "    pickup_datetime > '2019-10-15 00:00:00'\n",
    "and pickup_datetime <= '2019-10-16 00:00:00'\n",
    "\"\"\").show()"
   ]
  },
  {
   "cell_type": "code",
   "execution_count": 39,
   "id": "88dff492",
   "metadata": {},
   "outputs": [
    {
     "name": "stderr",
     "output_type": "stream",
     "text": [
      "[Stage 37:=============================>                            (2 + 2) / 4]\r"
     ]
    },
    {
     "name": "stdout",
     "output_type": "stream",
     "text": [
      "+--------+\n",
      "|DURATION|\n",
      "+--------+\n",
      "|  631152|\n",
      "+--------+\n",
      "\n"
     ]
    },
    {
     "name": "stderr",
     "output_type": "stream",
     "text": [
      "\r",
      "                                                                                \r"
     ]
    }
   ],
   "source": [
    "# maximum trip duration in hours\n",
    "spark.sql(\"\"\"\n",
    "SELECT \n",
    "extract(day from MAX(dropOff_datetime - pickup_datetime)*24) as DURATION\n",
    "FROM\n",
    "    trips_data\n",
    "\"\"\").show()"
   ]
  },
  {
   "cell_type": "code",
   "execution_count": 43,
   "id": "e5adc209",
   "metadata": {},
   "outputs": [],
   "source": [
    "df_taxi_zone = spark.read \\\n",
    "    .option(\"header\", \"true\") \\\n",
    "    .csv('/home/divij/notebooks/taxi_zone_lookup.csv')"
   ]
  },
  {
   "cell_type": "code",
   "execution_count": 45,
   "id": "361a308c",
   "metadata": {},
   "outputs": [
    {
     "name": "stdout",
     "output_type": "stream",
     "text": [
      "+----------+-------------+--------------------+------------+\n",
      "|LocationID|      Borough|                Zone|service_zone|\n",
      "+----------+-------------+--------------------+------------+\n",
      "|         1|          EWR|      Newark Airport|         EWR|\n",
      "|         2|       Queens|         Jamaica Bay|   Boro Zone|\n",
      "|         3|        Bronx|Allerton/Pelham G...|   Boro Zone|\n",
      "|         4|    Manhattan|       Alphabet City| Yellow Zone|\n",
      "|         5|Staten Island|       Arden Heights|   Boro Zone|\n",
      "+----------+-------------+--------------------+------------+\n",
      "only showing top 5 rows\n",
      "\n"
     ]
    }
   ],
   "source": [
    "df_taxi_zone.show(5)"
   ]
  },
  {
   "cell_type": "code",
   "execution_count": 47,
   "id": "be3559bb",
   "metadata": {},
   "outputs": [],
   "source": [
    "\n",
    "schema = types.StructType([ \n",
    "    types.StructField('LocationID', \n",
    "                types.IntegerType(), True), \n",
    "    types.StructField('Borough', \n",
    "                types.StringType(), True),\n",
    "    types.StructField('Zone', \n",
    "                types.StringType(), True),\n",
    "    types.StructField('service_zone', \n",
    "                types.StringType(), True)       \n",
    "]) "
   ]
  },
  {
   "cell_type": "code",
   "execution_count": 48,
   "id": "5d82d3ce",
   "metadata": {},
   "outputs": [],
   "source": [
    "df_taxi_zone = spark.read \\\n",
    "    .option(\"header\", \"true\") \\\n",
    "    .schema(schema) \\\n",
    "    .csv('/home/divij/notebooks/taxi_zone_lookup.csv')"
   ]
  },
  {
   "cell_type": "code",
   "execution_count": 52,
   "id": "5d2170f5",
   "metadata": {},
   "outputs": [],
   "source": [
    "df_result = df.join(df_taxi_zone, df.PUlocationID == df_taxi_zone.LocationID)\n"
   ]
  },
  {
   "cell_type": "code",
   "execution_count": 54,
   "id": "87252be0",
   "metadata": {},
   "outputs": [
    {
     "name": "stderr",
     "output_type": "stream",
     "text": [
      "                                                                                \r"
     ]
    },
    {
     "name": "stdout",
     "output_type": "stream",
     "text": [
      "+-------------------+-------------+-----------------+\n",
      "|    pickup_datetime|      Borough|             Zone|\n",
      "+-------------------+-------------+-----------------+\n",
      "|2019-10-07 10:41:27|      Unknown|               NV|\n",
      "|2019-10-04 08:27:31|      Unknown|               NV|\n",
      "|2019-10-08 08:15:00|      Unknown|               NA|\n",
      "|2019-10-02 10:38:24|      Unknown|               NV|\n",
      "|2019-10-01 10:25:21|Staten Island|    Port Richmond|\n",
      "|2019-10-02 07:52:48|      Unknown|               NV|\n",
      "|2019-10-07 06:54:42|      Unknown|               NV|\n",
      "|2019-10-07 12:13:02|      Unknown|               NV|\n",
      "|2019-10-03 09:44:39|      Unknown|               NV|\n",
      "|2019-10-03 21:36:36|    Manhattan|Battery Park City|\n",
      "+-------------------+-------------+-----------------+\n",
      "only showing top 10 rows\n",
      "\n"
     ]
    }
   ],
   "source": [
    "df_result.select('pickup_datetime', 'Borough', 'Zone').show(10)"
   ]
  },
  {
   "cell_type": "code",
   "execution_count": 55,
   "id": "5813d921",
   "metadata": {},
   "outputs": [],
   "source": [
    "df_result=df_result.registerTempTable('trips_data_zoned')"
   ]
  },
  {
   "cell_type": "code",
   "execution_count": 58,
   "id": "26b0cb5f",
   "metadata": {},
   "outputs": [
    {
     "name": "stderr",
     "output_type": "stream",
     "text": [
      "                                                                                \r"
     ]
    },
    {
     "name": "stdout",
     "output_type": "stream",
     "text": [
      "+--------------------+--------------+\n",
      "|                Zone|number_records|\n",
      "+--------------------+--------------+\n",
      "|         Jamaica Bay|             1|\n",
      "|Governor's Island...|             2|\n",
      "| Green-Wood Cemetery|             5|\n",
      "|       Broad Channel|             8|\n",
      "|     Highbridge Park|            14|\n",
      "+--------------------+--------------+\n",
      "only showing top 5 rows\n",
      "\n"
     ]
    },
    {
     "name": "stderr",
     "output_type": "stream",
     "text": [
      "\r",
      "[Stage 90:================================================>         (5 + 1) / 6]\r",
      "\r",
      "                                                                                \r"
     ]
    }
   ],
   "source": [
    "# least common PU Zone\n",
    "spark.sql(\"\"\"\n",
    "SELECT\n",
    "    Zone,\n",
    "    COUNT(1) AS number_records\n",
    "FROM\n",
    "    trips_data_zoned\n",
    "GROUP BY\n",
    "Zone\n",
    "ORDER BY count(1) \n",
    "\"\"\").show(5)"
   ]
  }
 ],
 "metadata": {
  "kernelspec": {
   "display_name": "Python 3 (ipykernel)",
   "language": "python",
   "name": "python3"
  },
  "language_info": {
   "codemirror_mode": {
    "name": "ipython",
    "version": 3
   },
   "file_extension": ".py",
   "mimetype": "text/x-python",
   "name": "python",
   "nbconvert_exporter": "python",
   "pygments_lexer": "ipython3",
   "version": "3.11.5"
  }
 },
 "nbformat": 4,
 "nbformat_minor": 5
}
